{
  "nbformat": 4,
  "nbformat_minor": 0,
  "metadata": {
    "colab": {
      "provenance": [],
      "authorship_tag": "ABX9TyNcUKIsAucAogW/DLF3Y7Pu",
      "include_colab_link": true
    },
    "kernelspec": {
      "name": "python3",
      "display_name": "Python 3"
    },
    "language_info": {
      "name": "python"
    }
  },
  "cells": [
    {
      "cell_type": "markdown",
      "metadata": {
        "id": "view-in-github",
        "colab_type": "text"
      },
      "source": [
        "<a href=\"https://colab.research.google.com/github/amalbenny354/Code/blob/main/Untitled1.ipynb\" target=\"_parent\"><img src=\"https://colab.research.google.com/assets/colab-badge.svg\" alt=\"Open In Colab\"/></a>"
      ]
    },
    {
      "cell_type": "code",
      "execution_count": 5,
      "metadata": {
        "colab": {
          "base_uri": "https://localhost:8080/"
        },
        "id": "PSYQQIr25dUZ",
        "outputId": "0c30c6bf-a04d-4017-dd82-a3c23c421d46"
      },
      "outputs": [
        {
          "output_type": "stream",
          "name": "stdout",
          "text": [
            "enter first number = 2\n",
            "enter second number = 5\n",
            "Before swapping\n",
            "A = 2 B = 5\n",
            "After swapping\n",
            "A = 5 B = 2\n"
          ]
        }
      ],
      "source": [
        "a=int(input(\"enter first number = \"))\n",
        "b=int(input(\"enter second number = \"))\n",
        "print(\"Before swapping\")\n",
        "print(\"A =\",a,\"B =\",b)\n",
        "a=a+b\n",
        "b=a-b\n",
        "a=a-b\n",
        "print(\"After swapping\")\n",
        "print(\"A =5\",a,\"B =\",b)"
      ]
    }
  ]
}